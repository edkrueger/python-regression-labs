{
 "cells": [
  {
   "cell_type": "code",
   "execution_count": 1,
   "metadata": {},
   "outputs": [],
   "source": [
    "from google.cloud import storage\n",
    "\n",
    "BUCKET = \"ut-nov-2019-regression\"\n",
    "FILENAME = \"ISLR_auto_raw.csv\"\n",
    "\n",
    "client = storage.Client()\n",
    "\n",
    "bucket = client.get_bucket(BUCKET)\n",
    "\n",
    "blob = bucket.get_blob(FILENAME)\n",
    "blob.download_to_filename(FILENAME)"
   ]
  }
 ],
 "metadata": {
  "kernelspec": {
   "display_name": "Python 3",
   "language": "python",
   "name": "python3"
  },
  "language_info": {
   "codemirror_mode": {
    "name": "ipython",
    "version": 3
   },
   "file_extension": ".py",
   "mimetype": "text/x-python",
   "name": "python",
   "nbconvert_exporter": "python",
   "pygments_lexer": "ipython3",
   "version": "3.7.6"
  }
 },
 "nbformat": 4,
 "nbformat_minor": 4
}
